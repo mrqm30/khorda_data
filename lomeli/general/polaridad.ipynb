{
 "cells": [
  {
   "cell_type": "code",
   "execution_count": 1,
   "id": "2a5ed3e4-887e-4f05-b254-6f70fe930ff2",
   "metadata": {},
   "outputs": [],
   "source": [
    "\n",
    "import numpy as np\n",
    "import pandas as pd\n",
    "import plotly.express as px\n",
    "from plotly.offline import plot\n",
    "import matplotlib.pyplot as plt\n",
    "import plotly.graph_objects as go\n",
    "\n",
    "\n",
    "pol_insta = pd.read_csv(\"/home/milton/Documentos/khorda_data/lomeli/insta/coments_result.csv\", usecols=[\"polaridad\"])\n",
    "\n",
    "pol_tiktok = pd.read_csv(\"/home/milton/Documentos/khorda_data/lomeli/tiktok/coments_result.csv\", usecols=[\"polaridad\"])\n",
    "\n",
    "pol_x = pd.read_csv(\"/home/milton/Documentos/khorda_data/lomeli/twitter/df_coments_complete.csv\", usecols=[\"polaridad\"])\n",
    "\n",
    "polaridad = pd.concat([pol_insta, pol_tiktok, pol_x], axis=0)\n",
    "\n",
    "polaridad.to_csv(\"polaridad.csv\")"
   ]
  },
  {
   "cell_type": "code",
   "execution_count": 7,
   "metadata": {},
   "outputs": [],
   "source": [
    "pol_insta = pd.read_csv(\"/home/milton/Documentos/khorda_data/lomeli/general/posts_result_insta.csv\", usecols=[\"polaridad\"])\n",
    "pol_fb = pd.read_csv(\"/home/milton/Documentos/khorda_data/lomeli/general/posts_result_fb.csv\", usecols=[\"polaridad\"])\n",
    "pol_x = pd.read_csv(\"/home/milton/Documentos/khorda_data/lomeli/general/posts_result_x.csv\", usecols=[\"polaridad\"])\n",
    "polaridad = pd.concat([pol_insta, pol_tiktok, pol_x], axis=0)\n",
    "\n",
    "polaridad.to_csv(\"polaridad_posts.csv\")"
   ]
  },
  {
   "cell_type": "code",
   "execution_count": 9,
   "id": "5e3d19f6-4011-48ce-ad03-ba4f2a8613f1",
   "metadata": {},
   "outputs": [
    {
     "data": {
      "application/vnd.plotly.v1+json": {
       "config": {
        "plotlyServerURL": "https://plotly.com"
       },
       "data": [
        {
         "histnorm": "probability",
         "marker": {
          "color": "blue"
         },
         "type": "histogram",
         "x": [
          0.0213974102080839,
          0.0016864728771875,
          0.4978922592055748,
          0.0018562509325883,
          0.0696326753882315,
          0.4978922592055748,
          0.2856385508636069,
          1.649309441598922e-8,
          0.001754347086793,
          0.0003447841023097,
          0.0462853992439188,
          0.0092375690253519,
          0.0006357942417384,
          0.0008569790514223,
          0.000040215000436865097,
          0.038789631398426,
          1.197133952010012e-13,
          0.1166175685230983,
          0.0001654592524083,
          0.0063990669241936,
          0.3257948688365802,
          0.00001881479131172777,
          0.1286088779573467,
          0.0211243448965446,
          3.1028902610914246e-17,
          0.0910713685154107,
          0.9999999982855172,
          0.00007343246699643303,
          0.3485666892277213,
          0.0040441202067218,
          0.004072676757459,
          0.000060059730335934174,
          0.0066408235982052,
          0.0418667358650429,
          4.134018379693563e-9,
          0.00003054072015186557,
          0.2103488274619318,
          0.0001246168538789,
          3.2758973829781014e-8,
          0.0005654922406573,
          2.992258815941858e-9,
          0.0229894241019657,
          0.0070847425539214,
          4.739841027567172e-7,
          3.26760718680652e-9,
          0.000026195417710895725,
          9.994726142119128e-8,
          0.000012091560842525663,
          0.00000184484784732164,
          0.00007717889647936653,
          0.0879189549915248,
          0.0002483098480459,
          0.0956016191762383,
          0.0210675849637228,
          0.0878306716874435,
          0.0256016044515289,
          8.439374820141229e-7,
          0.0112547725593743,
          0.0088970113414171,
          0.00007877200313653264,
          6.022357777719904e-10,
          0.0024488971593304,
          0.4545194658686768,
          6.405774081809093e-13,
          0.0213974102080839,
          0.4978922592055748,
          0.3069547272515054,
          0.5136446707795853,
          0.8154719109213224,
          0.0287422117445135,
          0.2541726641076113,
          0.6235552725318039,
          0.0719999093374199,
          0.4978922592055748,
          0.000006559452751883119,
          0.000027926178939452048,
          0.0014353938452861,
          0.4978922592055748,
          0.3069547272515054,
          0.0287422117445135,
          0.4612776830817024,
          0.4872801960214025,
          0.4872801960214025,
          0.4978922592055748,
          0.4978922592055748,
          0.379121809775271,
          0.5136446707795853,
          0.4978922592055748,
          0.0970699045705789,
          0.8154719109213224,
          0.4978922592055748,
          0.0641038890967472,
          0.0376534516464536,
          0.1085788269710805,
          0.4978922592055748,
          0.6128726279532205,
          0.1085788269710805,
          0.4978922592055748,
          0.6128726279532205,
          0.19613646870216,
          0.3269745550501543,
          0.2858374598939068,
          0.1606629558543377,
          0.4978922592055748,
          0.0970699045705789,
          0.28684659386477,
          0.4978922592055748,
          0.2858374598939068,
          0.1606629558543377,
          0.4978922592055748,
          0.0970699045705789,
          0.28684659386477,
          0.4978922592055748,
          0.4810837636405833,
          0.0109240555588381,
          0.000018128974218604195,
          0.0235224321104574,
          0.0502146217497311,
          3.368453177920162e-9,
          0.0005654922406573,
          2.992258815941858e-9,
          0.0229894241019657,
          0.00007717889647936653,
          0.0879189549915248,
          0.0952086338977144,
          0.000013385362530120303,
          0.0116621432791324,
          0.0210675849637228,
          0.0878306716874435,
          0.0004257588081057,
          8.439374820141229e-7,
          0.0112547725593743,
          0.0359406807366429,
          0.0213974102080839,
          0.0016864728771875,
          0.0018562509325883,
          0.00005061684414902034,
          0.0696326753882315,
          0.2888011974287081,
          0.0275398184955811,
          0.001754347086793,
          0.0003447841023097,
          0.0462853992439188,
          1.7183747016296828e-7,
          2.968865415826443e-20,
          0.000012402264253388517,
          0.0675812815389969,
          1.197133952010012e-13,
          0.1166175685230983,
          7.155104261157748e-11,
          0.0636130226732495,
          0.0000012437085244711983,
          0.0001005659500436,
          0.0063990669241936,
          0.3257948688365802,
          0.00001881479131172777,
          3.4183472467659666e-17,
          0.1428301593919496,
          0.0910713685154107,
          0.0001290278960928,
          3.978812536257316e-7,
          0.9999999982855172,
          0.000008938434706864634,
          0.00000254757925111659,
          0.00007343246699643303,
          0.7124521467166681,
          0.0021375846943578,
          0.00002037144516599493,
          0.0004400283386669,
          0.00000793873908643539,
          4.73000135601337e-7,
          0.0012685699494757,
          0.0304011605439397,
          7.349522845074245e-7,
          0.0012685699494757,
          0.00006410096031054397,
          0.000060059730335934174,
          0.0066408235982052,
          0.00005448137837347484,
          0.0017645467911169,
          0.00006974858494174819,
          0.0049862265371203,
          1.8996859277436287e-9,
          0.00001510126084086596,
          0.2103488274619318,
          0.0004273231904382,
          7.228995306617803e-7,
          0.000019316458748374065,
          0.0024014322022845,
          0.3384123651748678,
          0.0014310095408197,
          0.003089012891647,
          0.1527191833283888,
          0.0002819072788409,
          0.0061119626819669,
          0.000006190798160242404,
          0.0007366924443134,
          0.0037090936984159,
          0.0006926455144369,
          0.0070847425539214,
          0.023541388208306,
          4.739841027567172e-7,
          4.083256320115364e-9,
          9.994726142119128e-8,
          0.000012091560842525663,
          0.00000184484784732164,
          0.00009122365357913576,
          6.022357777719904e-10,
          0.0024488971593304,
          0.4545194658686768,
          6.405774081809093e-13,
          0.159858832065651,
          0.140838846292036,
          0.0364531232513934,
          0.0006357942417384,
          0.5950622344498042,
          0.0008569790514223,
          0.7606249565871848,
          6.008665518752585e-8,
          0.0000011347802555311928,
          2.9256484296296526e-9,
          3.559922639914821e-7,
          0.1286088779573467,
          0.0118957040381977,
          1.012414294303156e-7,
          2.181101582596804e-8,
          0.0005373745718369,
          0.000004109006017679576,
          0.00002202549666935388,
          0.0038766561783405,
          0.000057353801092971694,
          0.0041578350742545,
          0.0001564299312812,
          0.0006884764842849,
          0.0000012520163468817103,
          0.0028509956104575,
          0.083276407460143,
          2.377747033759314e-11,
          9.2208792940871e-8
         ]
        }
       ],
       "layout": {
        "annotations": [
         {
          "font": {
           "size": 16
          },
          "showarrow": false,
          "text": "Histograma de Polaridad",
          "x": 0.5,
          "xref": "paper",
          "y": 1.02,
          "yref": "paper"
         }
        ],
        "bargap": 0,
        "bargroupgap": 0,
        "plot_bgcolor": "grey",
        "showlegend": false,
        "template": {
         "data": {
          "bar": [
           {
            "error_x": {
             "color": "#2a3f5f"
            },
            "error_y": {
             "color": "#2a3f5f"
            },
            "marker": {
             "line": {
              "color": "#E5ECF6",
              "width": 0.5
             },
             "pattern": {
              "fillmode": "overlay",
              "size": 10,
              "solidity": 0.2
             }
            },
            "type": "bar"
           }
          ],
          "barpolar": [
           {
            "marker": {
             "line": {
              "color": "#E5ECF6",
              "width": 0.5
             },
             "pattern": {
              "fillmode": "overlay",
              "size": 10,
              "solidity": 0.2
             }
            },
            "type": "barpolar"
           }
          ],
          "carpet": [
           {
            "aaxis": {
             "endlinecolor": "#2a3f5f",
             "gridcolor": "white",
             "linecolor": "white",
             "minorgridcolor": "white",
             "startlinecolor": "#2a3f5f"
            },
            "baxis": {
             "endlinecolor": "#2a3f5f",
             "gridcolor": "white",
             "linecolor": "white",
             "minorgridcolor": "white",
             "startlinecolor": "#2a3f5f"
            },
            "type": "carpet"
           }
          ],
          "choropleth": [
           {
            "colorbar": {
             "outlinewidth": 0,
             "ticks": ""
            },
            "type": "choropleth"
           }
          ],
          "contour": [
           {
            "colorbar": {
             "outlinewidth": 0,
             "ticks": ""
            },
            "colorscale": [
             [
              0,
              "#0d0887"
             ],
             [
              0.1111111111111111,
              "#46039f"
             ],
             [
              0.2222222222222222,
              "#7201a8"
             ],
             [
              0.3333333333333333,
              "#9c179e"
             ],
             [
              0.4444444444444444,
              "#bd3786"
             ],
             [
              0.5555555555555556,
              "#d8576b"
             ],
             [
              0.6666666666666666,
              "#ed7953"
             ],
             [
              0.7777777777777778,
              "#fb9f3a"
             ],
             [
              0.8888888888888888,
              "#fdca26"
             ],
             [
              1,
              "#f0f921"
             ]
            ],
            "type": "contour"
           }
          ],
          "contourcarpet": [
           {
            "colorbar": {
             "outlinewidth": 0,
             "ticks": ""
            },
            "type": "contourcarpet"
           }
          ],
          "heatmap": [
           {
            "colorbar": {
             "outlinewidth": 0,
             "ticks": ""
            },
            "colorscale": [
             [
              0,
              "#0d0887"
             ],
             [
              0.1111111111111111,
              "#46039f"
             ],
             [
              0.2222222222222222,
              "#7201a8"
             ],
             [
              0.3333333333333333,
              "#9c179e"
             ],
             [
              0.4444444444444444,
              "#bd3786"
             ],
             [
              0.5555555555555556,
              "#d8576b"
             ],
             [
              0.6666666666666666,
              "#ed7953"
             ],
             [
              0.7777777777777778,
              "#fb9f3a"
             ],
             [
              0.8888888888888888,
              "#fdca26"
             ],
             [
              1,
              "#f0f921"
             ]
            ],
            "type": "heatmap"
           }
          ],
          "heatmapgl": [
           {
            "colorbar": {
             "outlinewidth": 0,
             "ticks": ""
            },
            "colorscale": [
             [
              0,
              "#0d0887"
             ],
             [
              0.1111111111111111,
              "#46039f"
             ],
             [
              0.2222222222222222,
              "#7201a8"
             ],
             [
              0.3333333333333333,
              "#9c179e"
             ],
             [
              0.4444444444444444,
              "#bd3786"
             ],
             [
              0.5555555555555556,
              "#d8576b"
             ],
             [
              0.6666666666666666,
              "#ed7953"
             ],
             [
              0.7777777777777778,
              "#fb9f3a"
             ],
             [
              0.8888888888888888,
              "#fdca26"
             ],
             [
              1,
              "#f0f921"
             ]
            ],
            "type": "heatmapgl"
           }
          ],
          "histogram": [
           {
            "marker": {
             "pattern": {
              "fillmode": "overlay",
              "size": 10,
              "solidity": 0.2
             }
            },
            "type": "histogram"
           }
          ],
          "histogram2d": [
           {
            "colorbar": {
             "outlinewidth": 0,
             "ticks": ""
            },
            "colorscale": [
             [
              0,
              "#0d0887"
             ],
             [
              0.1111111111111111,
              "#46039f"
             ],
             [
              0.2222222222222222,
              "#7201a8"
             ],
             [
              0.3333333333333333,
              "#9c179e"
             ],
             [
              0.4444444444444444,
              "#bd3786"
             ],
             [
              0.5555555555555556,
              "#d8576b"
             ],
             [
              0.6666666666666666,
              "#ed7953"
             ],
             [
              0.7777777777777778,
              "#fb9f3a"
             ],
             [
              0.8888888888888888,
              "#fdca26"
             ],
             [
              1,
              "#f0f921"
             ]
            ],
            "type": "histogram2d"
           }
          ],
          "histogram2dcontour": [
           {
            "colorbar": {
             "outlinewidth": 0,
             "ticks": ""
            },
            "colorscale": [
             [
              0,
              "#0d0887"
             ],
             [
              0.1111111111111111,
              "#46039f"
             ],
             [
              0.2222222222222222,
              "#7201a8"
             ],
             [
              0.3333333333333333,
              "#9c179e"
             ],
             [
              0.4444444444444444,
              "#bd3786"
             ],
             [
              0.5555555555555556,
              "#d8576b"
             ],
             [
              0.6666666666666666,
              "#ed7953"
             ],
             [
              0.7777777777777778,
              "#fb9f3a"
             ],
             [
              0.8888888888888888,
              "#fdca26"
             ],
             [
              1,
              "#f0f921"
             ]
            ],
            "type": "histogram2dcontour"
           }
          ],
          "mesh3d": [
           {
            "colorbar": {
             "outlinewidth": 0,
             "ticks": ""
            },
            "type": "mesh3d"
           }
          ],
          "parcoords": [
           {
            "line": {
             "colorbar": {
              "outlinewidth": 0,
              "ticks": ""
             }
            },
            "type": "parcoords"
           }
          ],
          "pie": [
           {
            "automargin": true,
            "type": "pie"
           }
          ],
          "scatter": [
           {
            "fillpattern": {
             "fillmode": "overlay",
             "size": 10,
             "solidity": 0.2
            },
            "type": "scatter"
           }
          ],
          "scatter3d": [
           {
            "line": {
             "colorbar": {
              "outlinewidth": 0,
              "ticks": ""
             }
            },
            "marker": {
             "colorbar": {
              "outlinewidth": 0,
              "ticks": ""
             }
            },
            "type": "scatter3d"
           }
          ],
          "scattercarpet": [
           {
            "marker": {
             "colorbar": {
              "outlinewidth": 0,
              "ticks": ""
             }
            },
            "type": "scattercarpet"
           }
          ],
          "scattergeo": [
           {
            "marker": {
             "colorbar": {
              "outlinewidth": 0,
              "ticks": ""
             }
            },
            "type": "scattergeo"
           }
          ],
          "scattergl": [
           {
            "marker": {
             "colorbar": {
              "outlinewidth": 0,
              "ticks": ""
             }
            },
            "type": "scattergl"
           }
          ],
          "scattermapbox": [
           {
            "marker": {
             "colorbar": {
              "outlinewidth": 0,
              "ticks": ""
             }
            },
            "type": "scattermapbox"
           }
          ],
          "scatterpolar": [
           {
            "marker": {
             "colorbar": {
              "outlinewidth": 0,
              "ticks": ""
             }
            },
            "type": "scatterpolar"
           }
          ],
          "scatterpolargl": [
           {
            "marker": {
             "colorbar": {
              "outlinewidth": 0,
              "ticks": ""
             }
            },
            "type": "scatterpolargl"
           }
          ],
          "scatterternary": [
           {
            "marker": {
             "colorbar": {
              "outlinewidth": 0,
              "ticks": ""
             }
            },
            "type": "scatterternary"
           }
          ],
          "surface": [
           {
            "colorbar": {
             "outlinewidth": 0,
             "ticks": ""
            },
            "colorscale": [
             [
              0,
              "#0d0887"
             ],
             [
              0.1111111111111111,
              "#46039f"
             ],
             [
              0.2222222222222222,
              "#7201a8"
             ],
             [
              0.3333333333333333,
              "#9c179e"
             ],
             [
              0.4444444444444444,
              "#bd3786"
             ],
             [
              0.5555555555555556,
              "#d8576b"
             ],
             [
              0.6666666666666666,
              "#ed7953"
             ],
             [
              0.7777777777777778,
              "#fb9f3a"
             ],
             [
              0.8888888888888888,
              "#fdca26"
             ],
             [
              1,
              "#f0f921"
             ]
            ],
            "type": "surface"
           }
          ],
          "table": [
           {
            "cells": {
             "fill": {
              "color": "#EBF0F8"
             },
             "line": {
              "color": "white"
             }
            },
            "header": {
             "fill": {
              "color": "#C8D4E3"
             },
             "line": {
              "color": "white"
             }
            },
            "type": "table"
           }
          ]
         },
         "layout": {
          "annotationdefaults": {
           "arrowcolor": "#2a3f5f",
           "arrowhead": 0,
           "arrowwidth": 1
          },
          "autotypenumbers": "strict",
          "coloraxis": {
           "colorbar": {
            "outlinewidth": 0,
            "ticks": ""
           }
          },
          "colorscale": {
           "diverging": [
            [
             0,
             "#8e0152"
            ],
            [
             0.1,
             "#c51b7d"
            ],
            [
             0.2,
             "#de77ae"
            ],
            [
             0.3,
             "#f1b6da"
            ],
            [
             0.4,
             "#fde0ef"
            ],
            [
             0.5,
             "#f7f7f7"
            ],
            [
             0.6,
             "#e6f5d0"
            ],
            [
             0.7,
             "#b8e186"
            ],
            [
             0.8,
             "#7fbc41"
            ],
            [
             0.9,
             "#4d9221"
            ],
            [
             1,
             "#276419"
            ]
           ],
           "sequential": [
            [
             0,
             "#0d0887"
            ],
            [
             0.1111111111111111,
             "#46039f"
            ],
            [
             0.2222222222222222,
             "#7201a8"
            ],
            [
             0.3333333333333333,
             "#9c179e"
            ],
            [
             0.4444444444444444,
             "#bd3786"
            ],
            [
             0.5555555555555556,
             "#d8576b"
            ],
            [
             0.6666666666666666,
             "#ed7953"
            ],
            [
             0.7777777777777778,
             "#fb9f3a"
            ],
            [
             0.8888888888888888,
             "#fdca26"
            ],
            [
             1,
             "#f0f921"
            ]
           ],
           "sequentialminus": [
            [
             0,
             "#0d0887"
            ],
            [
             0.1111111111111111,
             "#46039f"
            ],
            [
             0.2222222222222222,
             "#7201a8"
            ],
            [
             0.3333333333333333,
             "#9c179e"
            ],
            [
             0.4444444444444444,
             "#bd3786"
            ],
            [
             0.5555555555555556,
             "#d8576b"
            ],
            [
             0.6666666666666666,
             "#ed7953"
            ],
            [
             0.7777777777777778,
             "#fb9f3a"
            ],
            [
             0.8888888888888888,
             "#fdca26"
            ],
            [
             1,
             "#f0f921"
            ]
           ]
          },
          "colorway": [
           "#636efa",
           "#EF553B",
           "#00cc96",
           "#ab63fa",
           "#FFA15A",
           "#19d3f3",
           "#FF6692",
           "#B6E880",
           "#FF97FF",
           "#FECB52"
          ],
          "font": {
           "color": "#2a3f5f"
          },
          "geo": {
           "bgcolor": "white",
           "lakecolor": "white",
           "landcolor": "#E5ECF6",
           "showlakes": true,
           "showland": true,
           "subunitcolor": "white"
          },
          "hoverlabel": {
           "align": "left"
          },
          "hovermode": "closest",
          "mapbox": {
           "style": "light"
          },
          "paper_bgcolor": "white",
          "plot_bgcolor": "#E5ECF6",
          "polar": {
           "angularaxis": {
            "gridcolor": "white",
            "linecolor": "white",
            "ticks": ""
           },
           "bgcolor": "#E5ECF6",
           "radialaxis": {
            "gridcolor": "white",
            "linecolor": "white",
            "ticks": ""
           }
          },
          "scene": {
           "xaxis": {
            "backgroundcolor": "#E5ECF6",
            "gridcolor": "white",
            "gridwidth": 2,
            "linecolor": "white",
            "showbackground": true,
            "ticks": "",
            "zerolinecolor": "white"
           },
           "yaxis": {
            "backgroundcolor": "#E5ECF6",
            "gridcolor": "white",
            "gridwidth": 2,
            "linecolor": "white",
            "showbackground": true,
            "ticks": "",
            "zerolinecolor": "white"
           },
           "zaxis": {
            "backgroundcolor": "#E5ECF6",
            "gridcolor": "white",
            "gridwidth": 2,
            "linecolor": "white",
            "showbackground": true,
            "ticks": "",
            "zerolinecolor": "white"
           }
          },
          "shapedefaults": {
           "line": {
            "color": "#2a3f5f"
           }
          },
          "ternary": {
           "aaxis": {
            "gridcolor": "white",
            "linecolor": "white",
            "ticks": ""
           },
           "baxis": {
            "gridcolor": "white",
            "linecolor": "white",
            "ticks": ""
           },
           "bgcolor": "#E5ECF6",
           "caxis": {
            "gridcolor": "white",
            "linecolor": "white",
            "ticks": ""
           }
          },
          "title": {
           "x": 0.05
          },
          "xaxis": {
           "automargin": true,
           "gridcolor": "white",
           "linecolor": "white",
           "ticks": "",
           "title": {
            "standoff": 15
           },
           "zerolinecolor": "white",
           "zerolinewidth": 2
          },
          "yaxis": {
           "automargin": true,
           "gridcolor": "white",
           "linecolor": "white",
           "ticks": "",
           "title": {
            "standoff": 15
           },
           "zerolinecolor": "white",
           "zerolinewidth": 2
          }
         }
        },
        "title": {
         "text": "Distribución de Polaridad"
        },
        "xaxis": {
         "showgrid": false,
         "showline": true,
         "title": {
          "text": "Polaridad"
         }
        },
        "yaxis": {
         "showgrid": false,
         "showline": true,
         "title": {
          "text": "Frecuencia"
         }
        }
       }
      }
     },
     "metadata": {},
     "output_type": "display_data"
    }
   ],
   "source": [
    "fig = go.Figure()\n",
    "fig.add_trace(go.Histogram(x=polaridad.polaridad, histnorm='probability', marker_color='blue'))\n",
    "# Personalizar el diseño y agregar elementos visuales\n",
    "fig.update_layout(\n",
    "    title_text=\"Distribución de Polaridad\",\n",
    "    xaxis_title=\"Polaridad\",\n",
    "    yaxis_title=\"Frecuencia\",\n",
    "    xaxis=dict(showline=True, showgrid=False),\n",
    "    yaxis=dict(showline=True, showgrid=False),\n",
    "    plot_bgcolor='grey',\n",
    "    bargap=0.0,  # Espaciado entre barras\n",
    "    bargroupgap=0.0,  # Espaciado entre grupos de barras\n",
    "    showlegend=False  # No mostrar leyenda\n",
    ")\n",
    "\n",
    "# Añadir un título de fuente\n",
    "fig.add_annotation(\n",
    "    text=\"Histograma de Polaridad\",\n",
    "    xref=\"paper\", yref=\"paper\",\n",
    "    x=0.5, y=1.02,\n",
    "    showarrow=False,\n",
    "    font=dict(size=16)\n",
    ")\n",
    "fig.show()"
   ]
  },
  {
   "cell_type": "code",
   "execution_count": 14,
   "id": "629117a7-30d6-4803-892f-e8ed50d0e63c",
   "metadata": {},
   "outputs": [
    {
     "data": {
      "image/png": "[encoded data removed]",
      "text/plain": [
       "<Figure size 600x600 with 1 Axes>"
      ]
     },
     "metadata": {},
     "output_type": "display_data"
    }
   ],
   "source": [
    "polaridad.describe()\n",
    "mediana = np.median(polaridad)\n",
    "\n",
    "# Clasificar las polaridades en negativas, neutras y positivas\n",
    "negativas = polaridad[(polaridad['polaridad'] > 0.32)]\n",
    "neutras = polaridad[(polaridad['polaridad'] > 0.33) & (polaridad['polaridad'] <= 0.63)]\n",
    "positivas = polaridad[(polaridad['polaridad'] > 0.63)]\n",
    "\n",
    "\n",
    "# Contar cuántos elementos hay en cada categoría\n",
    "num_negativas = len(negativas)\n",
    "num_neutras = len(neutras)\n",
    "num_positivas = len(positivas)\n",
    "\n",
    "# Crear la gráfica de pastel\n",
    "labels = ['Negativas', 'Neutras', 'Positivas']\n",
    "sizes = [num_negativas, num_neutras, num_positivas]\n",
    "colors = ['red', 'lightgray', 'green']\n",
    "explode = (0.1, 0, 0)  # Para resaltar la categoría de negativas\n",
    "\n",
    "plt.figure(figsize=(6, 6))\n",
    "plt.pie(sizes, labels=labels, colors=colors, explode=explode, autopct='%1.1f%%', shadow=True)\n",
    "plt.title('Distribución de Polaridad')\n",
    "plt.show()\n"
   ]
  }
 ],
 "metadata": {
  "kernelspec": {
   "display_name": "Python 3 (ipykernel)",
   "language": "python",
   "name": "python3"
  },
  "language_info": {
   "codemirror_mode": {
    "name": "ipython",
    "version": 3
   },
   "file_extension": ".py",
   "mimetype": "text/x-python",
   "name": "python",
   "nbconvert_exporter": "python",
   "pygments_lexer": "ipython3",
   "version": "3.10.12"
  }
 },
 "nbformat": 4,
 "nbformat_minor": 5
}
